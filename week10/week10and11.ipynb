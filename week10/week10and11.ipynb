{
 "cells": [
  {
   "cell_type": "code",
   "execution_count": 1,
   "id": "f9421b22",
   "metadata": {},
   "outputs": [
    {
     "name": "stdout",
     "output_type": "stream",
     "text": [
      "Collecting ucimlrepo\n",
      "  Downloading ucimlrepo-0.0.7-py3-none-any.whl.metadata (5.5 kB)\n",
      "Requirement already satisfied: pandas>=1.0.0 in /home/codespace/.local/lib/python3.12/site-packages (from ucimlrepo) (2.3.1)\n",
      "Requirement already satisfied: certifi>=2020.12.5 in /home/codespace/.local/lib/python3.12/site-packages (from ucimlrepo) (2025.7.9)\n",
      "Requirement already satisfied: numpy>=1.26.0 in /home/codespace/.local/lib/python3.12/site-packages (from pandas>=1.0.0->ucimlrepo) (2.3.1)\n",
      "Requirement already satisfied: python-dateutil>=2.8.2 in /home/codespace/.local/lib/python3.12/site-packages (from pandas>=1.0.0->ucimlrepo) (2.9.0.post0)\n",
      "Requirement already satisfied: pytz>=2020.1 in /home/codespace/.local/lib/python3.12/site-packages (from pandas>=1.0.0->ucimlrepo) (2025.2)\n",
      "Requirement already satisfied: tzdata>=2022.7 in /home/codespace/.local/lib/python3.12/site-packages (from pandas>=1.0.0->ucimlrepo) (2025.2)\n",
      "Requirement already satisfied: six>=1.5 in /home/codespace/.local/lib/python3.12/site-packages (from python-dateutil>=2.8.2->pandas>=1.0.0->ucimlrepo) (1.17.0)\n",
      "Downloading ucimlrepo-0.0.7-py3-none-any.whl (8.0 kB)\n",
      "Installing collected packages: ucimlrepo\n",
      "Successfully installed ucimlrepo-0.0.7\n",
      "\n",
      "\u001b[1m[\u001b[0m\u001b[34;49mnotice\u001b[0m\u001b[1;39;49m]\u001b[0m\u001b[39;49m A new release of pip is available: \u001b[0m\u001b[31;49m25.1.1\u001b[0m\u001b[39;49m -> \u001b[0m\u001b[32;49m25.2\u001b[0m\n",
      "\u001b[1m[\u001b[0m\u001b[34;49mnotice\u001b[0m\u001b[1;39;49m]\u001b[0m\u001b[39;49m To update, run: \u001b[0m\u001b[32;49mpython -m pip install --upgrade pip\u001b[0m\n",
      "Note: you may need to restart the kernel to use updated packages.\n"
     ]
    }
   ],
   "source": [
    "pip install ucimlrepo"
   ]
  },
  {
   "cell_type": "code",
   "execution_count": 2,
   "id": "4414c126",
   "metadata": {},
   "outputs": [
    {
     "name": "stdout",
     "output_type": "stream",
     "text": [
      "{'uci_id': 145, 'name': 'Statlog (Heart)', 'repository_url': 'https://archive.ics.uci.edu/dataset/145/statlog+heart', 'data_url': 'https://archive.ics.uci.edu/static/public/145/data.csv', 'abstract': 'This dataset is a heart disease database similar to a database already present in the repository (Heart Disease databases) but in a slightly different form', 'area': 'Health and Medicine', 'tasks': ['Classification'], 'characteristics': ['Multivariate'], 'num_instances': 270, 'num_features': 13, 'feature_types': ['Categorical', 'Real'], 'demographics': ['Age', 'Sex'], 'target_col': ['heart-disease'], 'index_col': None, 'has_missing_values': 'no', 'missing_values_symbol': None, 'year_of_dataset_creation': None, 'last_updated': 'Fri Feb 09 2024', 'dataset_doi': '10.24432/C57303', 'creators': [], 'intro_paper': None, 'additional_info': {'summary': 'Cost Matrix\\r\\n\\r\\n_______\\t abse  pres\\r\\nabsence\\t 0\\t1\\r\\npresence  5\\t0\\r\\n\\r\\nwhere the rows represent the true values and the columns the predicted.\\r\\n', 'purpose': None, 'funded_by': None, 'instances_represent': None, 'recommended_data_splits': None, 'sensitive_data': None, 'preprocessing_description': None, 'variable_info': '\\r\\nAttribute Information:\\r\\n------------------------\\r\\n      -- 1. age       \\r\\n      -- 2. sex       \\r\\n      -- 3. chest pain type  (4 values)       \\r\\n      -- 4. resting blood pressure  \\r\\n      -- 5. serum cholestoral in mg/dl      \\r\\n      -- 6. fasting blood sugar > 120 mg/dl       \\r\\n      -- 7. resting electrocardiographic results  (values 0,1,2) \\r\\n      -- 8. maximum heart rate achieved  \\r\\n      -- 9. exercise induced angina    \\r\\n      -- 10. oldpeak = ST depression induced by exercise relative to rest   \\r\\n      -- 11. the slope of the peak exercise ST segment     \\r\\n      -- 12. number of major vessels (0-3) colored by flourosopy        \\r\\n      -- 13.  thal: 3 = normal; 6 = fixed defect; 7 = reversable defect     \\r\\n\\r\\nAttributes types\\r\\n-----------------\\r\\n\\r\\nReal: 1,4,5,8,10,12\\r\\nOrdered:11,\\r\\nBinary: 2,6,9\\r\\nNominal:7,3,13\\r\\n\\r\\nVariable to be predicted\\r\\n------------------------\\r\\nAbsence (1) or presence (2) of heart disease\\r\\n', 'citation': None}}\n",
      "                    name     role         type demographic  \\\n",
      "0                    age  Feature   Continuous         Age   \n",
      "1                    sex  Feature       Binary         Sex   \n",
      "2             chest-pain  Feature  Categorical        None   \n",
      "3                rest-bp  Feature   Continuous        None   \n",
      "4             serum-chol  Feature   Continuous        None   \n",
      "5    fasting-blood-sugar  Feature       Binary        None   \n",
      "6   electrocardiographic  Feature  Categorical        None   \n",
      "7         max-heart-rate  Feature   Continuous        None   \n",
      "8                 angina  Feature       Binary        None   \n",
      "9                oldpeak  Feature   Continuous        None   \n",
      "10                 slope  Feature      Integer        None   \n",
      "11         major-vessels  Feature   Continuous        None   \n",
      "12                  thal  Feature  Categorical        None   \n",
      "13         heart-disease   Target      Integer        None   \n",
      "\n",
      "                                          description  units missing_values  \n",
      "0                                                None   None             no  \n",
      "1                                                None   None             no  \n",
      "2                                     chest pain type   None             no  \n",
      "3                              resting blood pressure   None             no  \n",
      "4                                   serum cholesterol  mg/dl             no  \n",
      "5                     fasting blood sugar > 120 mg/dl   None             no  \n",
      "6                resting electrocardiographic results   None             no  \n",
      "7                         maximum heart rate achieved   None             no  \n",
      "8                             exercise induced anigna   None             no  \n",
      "9   oldpeak = ST depression induced by exercise re...   None             no  \n",
      "10           the slope of the peak exercise ST sgment   None             no  \n",
      "11  number of major vessels (0-3) colored by fluor...   None             no  \n",
      "12  thal: 3 = normal; 6 = fixed defect; 7 = revers...   None             no  \n",
      "13                                               None   None             no  \n"
     ]
    }
   ],
   "source": [
    "from ucimlrepo import fetch_ucirepo \n",
    "  \n",
    "# fetch dataset \n",
    "statlog_heart = fetch_ucirepo(id=145) \n",
    "  \n",
    "# data (as pandas dataframes) \n",
    "X = statlog_heart.data.features \n",
    "y = statlog_heart.data.targets \n",
    "  \n",
    "# metadata \n",
    "print(statlog_heart.metadata) \n",
    "  \n",
    "# variable information \n",
    "print(statlog_heart.variables) "
   ]
  },
  {
   "cell_type": "code",
   "execution_count": 3,
   "id": "d44fec8d",
   "metadata": {},
   "outputs": [
    {
     "name": "stdout",
     "output_type": "stream",
     "text": [
      "K-Means clustering with 2 clusters\n",
      "Silhouette Score: 0.1676\n"
     ]
    }
   ],
   "source": [
    "from ucimlrepo import fetch_ucirepo\n",
    "from sklearn.cluster import KMeans\n",
    "from sklearn.metrics import silhouette_score\n",
    "from sklearn.preprocessing import StandardScaler\n",
    "\n",
    "# Fetch dataset\n",
    "statlog_heart = fetch_ucirepo(id=145)\n",
    "\n",
    "# Data (as pandas DataFrames)\n",
    "X = statlog_heart.data.features\n",
    "y = statlog_heart.data.targets\n",
    "\n",
    "# Optional: Standardize features for better clustering performance\n",
    "scaler = StandardScaler()\n",
    "X_scaled = scaler.fit_transform(X)\n",
    "\n",
    "# Define the number of clusters (for example, 2 since heart disease is often binary)\n",
    "n_clusters = 2\n",
    "\n",
    "# Create and fit KMeans\n",
    "kmeans = KMeans(n_clusters=n_clusters, random_state=42)\n",
    "cluster_labels = kmeans.fit_predict(X_scaled)\n",
    "\n",
    "# Calculate silhouette score\n",
    "score = silhouette_score(X_scaled, cluster_labels)\n",
    "\n",
    "print(f\"K-Means clustering with {n_clusters} clusters\")\n",
    "print(f\"Silhouette Score: {score:.4f}\")\n"
   ]
  },
  {
   "cell_type": "markdown",
   "id": "901fb2f7",
   "metadata": {},
   "source": [
    "Week 11"
   ]
  },
  {
   "cell_type": "code",
   "execution_count": 1,
   "id": "df9b9b98",
   "metadata": {},
   "outputs": [
    {
     "name": "stdout",
     "output_type": "stream",
     "text": [
      "DBSCAN clusters found: 0\n",
      "DBSCAN noise points: 270\n",
      "DBSCAN Silhouette Score: Not applicable (only one cluster or noise)\n",
      "\n",
      "Agglomerative Clustering clusters: 2\n",
      "Agglomerative Clustering Silhouette Score: 0.1229\n"
     ]
    }
   ],
   "source": [
    "from ucimlrepo import fetch_ucirepo\n",
    "from sklearn.preprocessing import StandardScaler\n",
    "from sklearn.cluster import DBSCAN, AgglomerativeClustering\n",
    "from sklearn.metrics import silhouette_score\n",
    "import numpy as np\n",
    "\n",
    "# Fetch dataset\n",
    "statlog_heart = fetch_ucirepo(id=145)\n",
    "X = statlog_heart.data.features\n",
    "\n",
    "# Scale features\n",
    "scaler = StandardScaler()\n",
    "X_scaled = scaler.fit_transform(X)\n",
    "\n",
    "# ----- DBSCAN -----\n",
    "# Set DBSCAN parameters - eps and min_samples often need tuning\n",
    "dbscan = DBSCAN(eps=0.5, min_samples=5)\n",
    "dbscan_labels = dbscan.fit_predict(X_scaled)\n",
    "\n",
    "# Number of clusters (excluding noise labeled as -1)\n",
    "n_clusters_dbscan = len(set(dbscan_labels)) - (1 if -1 in dbscan_labels else 0)\n",
    "n_noise = list(dbscan_labels).count(-1)\n",
    "\n",
    "print(f\"DBSCAN clusters found: {n_clusters_dbscan}\")\n",
    "print(f\"DBSCAN noise points: {n_noise}\")\n",
    "\n",
    "if n_clusters_dbscan > 1:\n",
    "    dbscan_silhouette = silhouette_score(X_scaled, dbscan_labels)\n",
    "    print(f\"DBSCAN Silhouette Score: {dbscan_silhouette:.4f}\")\n",
    "else:\n",
    "    print(\"DBSCAN Silhouette Score: Not applicable (only one cluster or noise)\")\n",
    "\n",
    "# ----- Hierarchical Agglomerative Clustering -----\n",
    "# Choose number of clusters (e.g., 2 based on dataset)\n",
    "agglo = AgglomerativeClustering(n_clusters=2)\n",
    "agglo_labels = agglo.fit_predict(X_scaled)\n",
    "\n",
    "print(f\"\\nAgglomerative Clustering clusters: {len(set(agglo_labels))}\")\n",
    "\n",
    "agglo_silhouette = silhouette_score(X_scaled, agglo_labels)\n",
    "print(f\"Agglomerative Clustering Silhouette Score: {agglo_silhouette:.4f}\")\n"
   ]
  }
 ],
 "metadata": {
  "kernelspec": {
   "display_name": "Python 3",
   "language": "python",
   "name": "python3"
  },
  "language_info": {
   "codemirror_mode": {
    "name": "ipython",
    "version": 3
   },
   "file_extension": ".py",
   "mimetype": "text/x-python",
   "name": "python",
   "nbconvert_exporter": "python",
   "pygments_lexer": "ipython3",
   "version": "3.12.1"
  }
 },
 "nbformat": 4,
 "nbformat_minor": 5
}
